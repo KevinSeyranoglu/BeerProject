{
 "cells": [
  {
   "cell_type": "code",
   "execution_count": 5,
   "metadata": {},
   "outputs": [],
   "source": [
    "import requests\n",
    "import pandas as pd \n",
    "from bs4 import BeautifulSoup\n",
    "from tqdm import tqdm\n",
    "import time\n",
    "import os \n",
    "import numpy as np \n",
    "import ast\n",
    "import re \n",
    "from sentence_transformers import SentenceTransformer\n",
    "from sklearn.metrics.pairwise import cosine_similarity\n",
    "import pickle\n",
    "\n"
   ]
  },
  {
   "cell_type": "code",
   "execution_count": 11,
   "metadata": {},
   "outputs": [],
   "source": [
    "df1=pd.read_csv('Cleaned beer data/Beerdata.csv')\n",
    "df2=pd.read_csv('beer data/beer_data_step1.csv').set_index('beer_id')\n",
    "df = df1.join(other=df2,on='beer_id',how='left')\n",
    "df=df.rename(columns={'style_name':'Beer styles'})\n",
    "\n",
    "\n",
    "\n",
    "\n",
    "df.reviews=df.reviews.apply(lambda x: ast.literal_eval(x))\n",
    "df['beer_page']='https://www.beeradvocate.com'+df['beer_page']\n",
    "\n",
    "\n",
    "\n",
    "df['N_rewiews']=df.reviews.str.len()\n",
    "df_sample=df.loc[df.N_rewiews>0]\n",
    "df_sample=df_sample.explode('reviews')\n"
   ]
  },
  {
   "cell_type": "code",
   "execution_count": 7,
   "metadata": {},
   "outputs": [],
   "source": [
    "model3 = SentenceTransformer('msmarco-distilbert-base-dot-prod-v3',device='cuda')\n",
    "\n",
    "with open('embeddings_reviews3.pkl', \"rb\") as fIn:\n",
    "    stored_data = pickle.load(fIn)\n",
    "    stored_sentences = stored_data['sentences']\n",
    "    stored_embeddings = stored_data['embeddings']"
   ]
  },
  {
   "cell_type": "code",
   "execution_count": 17,
   "metadata": {},
   "outputs": [],
   "source": [
    "def testing(my_sentence=''):\n",
    "    sentence_embedding2 = model3.encode(my_sentence)\n",
    "\n",
    "    cs=cosine_similarity(\n",
    "        [sentence_embedding2],\n",
    "        stored_embeddings,\n",
    "        dense_output=True\n",
    "    )\n",
    "    #df_i=df_sample.iloc[cs[0].argmax()]\n",
    "    df_=df_sample.iloc[cs[0].argsort()[::-1][0:5]]\n",
    "    for i in range(len(df_)):\n",
    "        df_i=df_.iloc[i]\n",
    "        print(\n",
    "            F'Review: {df_i.reviews}\\n Style: {df_i.beer_style}\\n beer name: {df_i.beer_name}\\n beer page: {df_i.beer_page}\\n\\n\\n'\n",
    "\n",
    "            )"
   ]
  },
  {
   "cell_type": "code",
   "execution_count": 18,
   "metadata": {},
   "outputs": [
    {
     "name": "stdout",
     "output_type": "stream",
     "text": [
      "Review: Very good on a hot day or with a burger.\n",
      " Style: Helles\n",
      " beer name: Hell\n",
      " beer page: https://www.beeradvocate.com/beer/profile/5855/62170/\n",
      "\n",
      "\n",
      "\n",
      "Review: Good beer, goes great with a burger and fries.\n",
      " Style: Märzen\n",
      " beer name: Oktoberfest\n",
      " beer page: https://www.beeradvocate.com/beer/profile/710/5757/\n",
      "\n",
      "\n",
      "\n",
      "Review: This one was in the middle of the road for me. Personally was hoping for more flavor. This was somewhere between a blonde ale and a light beer. Not too bad though. Definitely went good with a burger.\n",
      " Style: American Blonde Ale\n",
      " beer name: Bloomin’ Blonde\n",
      " beer page: https://www.beeradvocate.com/beer/profile/26932/349578/\n",
      "\n",
      "\n",
      "\n",
      "Review: Good beer with a burger and fries. It has a hoppy bitter taste, but not overpowering. It’s. It an “oh wow” beer but a solid choice. Not a watered down taste For sure.\n",
      " Style: American Pale Ale\n",
      " beer name: Manny's Pale Ale\n",
      " beer page: https://www.beeradvocate.com/beer/profile/4378/12645/\n",
      "\n",
      "\n",
      "\n",
      "Review: Good solid beer that goes great with their fresh made hamburgers!!\n",
      " Style: Baltic Porter\n",
      " beer name: BaltNick Porter\n",
      " beer page: https://www.beeradvocate.com/beer/profile/48713/426980/\n",
      "\n",
      "\n",
      "\n"
     ]
    }
   ],
   "source": [
    "testing(my_sentence='good with burgers')"
   ]
  },
  {
   "cell_type": "code",
   "execution_count": null,
   "metadata": {},
   "outputs": [],
   "source": []
  }
 ],
 "metadata": {
  "kernelspec": {
   "display_name": "Python 3.7.13 ('myenv')",
   "language": "python",
   "name": "python3"
  },
  "language_info": {
   "codemirror_mode": {
    "name": "ipython",
    "version": 3
   },
   "file_extension": ".py",
   "mimetype": "text/x-python",
   "name": "python",
   "nbconvert_exporter": "python",
   "pygments_lexer": "ipython3",
   "version": "3.7.13"
  },
  "orig_nbformat": 4,
  "vscode": {
   "interpreter": {
    "hash": "e670a2313c08460ca3e572e7aecbfd707f9340fb692d185f257e809bf55e70e3"
   }
  }
 },
 "nbformat": 4,
 "nbformat_minor": 2
}
