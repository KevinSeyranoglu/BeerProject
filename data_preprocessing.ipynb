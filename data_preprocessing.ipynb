{
 "cells": [
  {
   "cell_type": "code",
   "execution_count": 2,
   "metadata": {},
   "outputs": [],
   "source": [
    "import requests\n",
    "import pandas as pd \n",
    "from bs4 import BeautifulSoup\n",
    "from tqdm import tqdm\n",
    "import time\n",
    "import os \n",
    "import numpy as np \n",
    "import ast\n",
    "\n"
   ]
  },
  {
   "cell_type": "markdown",
   "metadata": {},
   "source": [
    "# Loading Data"
   ]
  },
  {
   "cell_type": "code",
   "execution_count": 2,
   "metadata": {},
   "outputs": [],
   "source": [
    "df=pd.read_csv('beer data/Beer_data20220916.csv')\n",
    "df_beers=pd.read_csv('beer_data3.csv')\n",
    "df_=df.copy()\n"
   ]
  },
  {
   "cell_type": "code",
   "execution_count": 3,
   "metadata": {},
   "outputs": [
    {
     "data": {
      "text/html": [
       "<div>\n",
       "<style scoped>\n",
       "    .dataframe tbody tr th:only-of-type {\n",
       "        vertical-align: middle;\n",
       "    }\n",
       "\n",
       "    .dataframe tbody tr th {\n",
       "        vertical-align: top;\n",
       "    }\n",
       "\n",
       "    .dataframe thead th {\n",
       "        text-align: right;\n",
       "    }\n",
       "</style>\n",
       "<table border=\"1\" class=\"dataframe\">\n",
       "  <thead>\n",
       "    <tr style=\"text-align: right;\">\n",
       "      <th></th>\n",
       "      <th>beer_name</th>\n",
       "      <th>beer_page</th>\n",
       "      <th>beer_company_name</th>\n",
       "      <th>beer_company_page_url</th>\n",
       "      <th>abv</th>\n",
       "      <th>rating</th>\n",
       "      <th>avg</th>\n",
       "      <th>last_active</th>\n",
       "      <th>beer_type_url</th>\n",
       "      <th>style_name</th>\n",
       "      <th>beer_type_name</th>\n",
       "      <th>beer_id</th>\n",
       "    </tr>\n",
       "  </thead>\n",
       "  <tbody>\n",
       "    <tr>\n",
       "      <th>0</th>\n",
       "      <td>Amber</td>\n",
       "      <td>/beer/profile/429/1309/</td>\n",
       "      <td>Alaskan Brewing Co.</td>\n",
       "      <td>/beer/profile/429/</td>\n",
       "      <td>5.30</td>\n",
       "      <td>2254</td>\n",
       "      <td>3.65</td>\n",
       "      <td>09-07-2022</td>\n",
       "      <td>https://www.beeradvocate.com/beer/styles/86/</td>\n",
       "      <td>Brown Ales</td>\n",
       "      <td>Altbier</td>\n",
       "      <td>429_1309</td>\n",
       "    </tr>\n",
       "    <tr>\n",
       "      <th>1</th>\n",
       "      <td>Double Bag</td>\n",
       "      <td>/beer/profile/94/273/</td>\n",
       "      <td>Long Trail Brewing Co.</td>\n",
       "      <td>/beer/profile/94/</td>\n",
       "      <td>7.20</td>\n",
       "      <td>1781</td>\n",
       "      <td>3.87</td>\n",
       "      <td>08-30-2022</td>\n",
       "      <td>https://www.beeradvocate.com/beer/styles/86/</td>\n",
       "      <td>Brown Ales</td>\n",
       "      <td>Altbier</td>\n",
       "      <td>94_273</td>\n",
       "    </tr>\n",
       "    <tr>\n",
       "      <th>2</th>\n",
       "      <td>Long Trail Ale</td>\n",
       "      <td>/beer/profile/94/3128/</td>\n",
       "      <td>Long Trail Brewing Co.</td>\n",
       "      <td>/beer/profile/94/</td>\n",
       "      <td>5.00</td>\n",
       "      <td>1429</td>\n",
       "      <td>3.57</td>\n",
       "      <td>08-30-2022</td>\n",
       "      <td>https://www.beeradvocate.com/beer/styles/86/</td>\n",
       "      <td>Brown Ales</td>\n",
       "      <td>Altbier</td>\n",
       "      <td>94_3128</td>\n",
       "    </tr>\n",
       "    <tr>\n",
       "      <th>3</th>\n",
       "      <td>Doppelsticke</td>\n",
       "      <td>/beer/profile/1923/24042/</td>\n",
       "      <td>Uerige Obergärige Hausbrauerei</td>\n",
       "      <td>/beer/profile/1923/</td>\n",
       "      <td>8.50</td>\n",
       "      <td>721</td>\n",
       "      <td>4.10</td>\n",
       "      <td>08-22-2022</td>\n",
       "      <td>https://www.beeradvocate.com/beer/styles/86/</td>\n",
       "      <td>Brown Ales</td>\n",
       "      <td>Altbier</td>\n",
       "      <td>1923_24042</td>\n",
       "    </tr>\n",
       "    <tr>\n",
       "      <th>4</th>\n",
       "      <td>Sleigh'r Dark Doüble Alt Ale</td>\n",
       "      <td>/beer/profile/14400/47120/</td>\n",
       "      <td>Ninkasi Brewing Company</td>\n",
       "      <td>/beer/profile/14400/</td>\n",
       "      <td>7.20</td>\n",
       "      <td>625</td>\n",
       "      <td>3.76</td>\n",
       "      <td>04-11-2021</td>\n",
       "      <td>https://www.beeradvocate.com/beer/styles/86/</td>\n",
       "      <td>Brown Ales</td>\n",
       "      <td>Altbier</td>\n",
       "      <td>14400_47120</td>\n",
       "    </tr>\n",
       "    <tr>\n",
       "      <th>...</th>\n",
       "      <td>...</td>\n",
       "      <td>...</td>\n",
       "      <td>...</td>\n",
       "      <td>...</td>\n",
       "      <td>...</td>\n",
       "      <td>...</td>\n",
       "      <td>...</td>\n",
       "      <td>...</td>\n",
       "      <td>...</td>\n",
       "      <td>...</td>\n",
       "      <td>...</td>\n",
       "      <td>...</td>\n",
       "    </tr>\n",
       "    <tr>\n",
       "      <th>194115</th>\n",
       "      <td>Voodoo - U</td>\n",
       "      <td>/beer/profile/54266/489724/</td>\n",
       "      <td>Apex Aleworks</td>\n",
       "      <td>/beer/profile/54266/</td>\n",
       "      <td>8.50</td>\n",
       "      <td>0</td>\n",
       "      <td>0.00</td>\n",
       "      <td>06-15-2020</td>\n",
       "      <td>https://www.beeradvocate.com/beer/styles/48/</td>\n",
       "      <td>Wheat Beers</td>\n",
       "      <td>Witbier</td>\n",
       "      <td>54266_489724</td>\n",
       "    </tr>\n",
       "    <tr>\n",
       "      <th>194116</th>\n",
       "      <td>Wit</td>\n",
       "      <td>/beer/profile/57106/491260/</td>\n",
       "      <td>Rochester Brewing &amp; Roasting Co.</td>\n",
       "      <td>/beer/profile/57106/</td>\n",
       "      <td>4.90</td>\n",
       "      <td>0</td>\n",
       "      <td>0.00</td>\n",
       "      <td>06-24-2020</td>\n",
       "      <td>https://www.beeradvocate.com/beer/styles/48/</td>\n",
       "      <td>Wheat Beers</td>\n",
       "      <td>Witbier</td>\n",
       "      <td>57106_491260</td>\n",
       "    </tr>\n",
       "    <tr>\n",
       "      <th>194117</th>\n",
       "      <td>Brumada</td>\n",
       "      <td>/beer/profile/60099/519676/</td>\n",
       "      <td>Wolf Branch Brewing</td>\n",
       "      <td>/beer/profile/60099/</td>\n",
       "      <td>4.80</td>\n",
       "      <td>0</td>\n",
       "      <td>0.00</td>\n",
       "      <td>11-23-2020</td>\n",
       "      <td>https://www.beeradvocate.com/beer/styles/48/</td>\n",
       "      <td>Wheat Beers</td>\n",
       "      <td>Witbier</td>\n",
       "      <td>60099_519676</td>\n",
       "    </tr>\n",
       "    <tr>\n",
       "      <th>194118</th>\n",
       "      <td>Lowside</td>\n",
       "      <td>/beer/profile/48685/464893/</td>\n",
       "      <td>Strap Tank Brewing Co.</td>\n",
       "      <td>/beer/profile/48685/</td>\n",
       "      <td>4.80</td>\n",
       "      <td>0</td>\n",
       "      <td>0.00</td>\n",
       "      <td>02-07-2020</td>\n",
       "      <td>https://www.beeradvocate.com/beer/styles/48/</td>\n",
       "      <td>Wheat Beers</td>\n",
       "      <td>Witbier</td>\n",
       "      <td>48685_464893</td>\n",
       "    </tr>\n",
       "    <tr>\n",
       "      <th>194119</th>\n",
       "      <td>Belgian Wit</td>\n",
       "      <td>/beer/profile/60670/574719/</td>\n",
       "      <td>Paddled South Brewing Company</td>\n",
       "      <td>/beer/profile/60670/</td>\n",
       "      <td>4.20</td>\n",
       "      <td>0</td>\n",
       "      <td>0.00</td>\n",
       "      <td>10-29-2021</td>\n",
       "      <td>https://www.beeradvocate.com/beer/styles/48/</td>\n",
       "      <td>Wheat Beers</td>\n",
       "      <td>Witbier</td>\n",
       "      <td>60670_574719</td>\n",
       "    </tr>\n",
       "  </tbody>\n",
       "</table>\n",
       "<p>194120 rows × 12 columns</p>\n",
       "</div>"
      ],
      "text/plain": [
       "                           beer_name                    beer_page  \\\n",
       "0                              Amber      /beer/profile/429/1309/   \n",
       "1                         Double Bag        /beer/profile/94/273/   \n",
       "2                     Long Trail Ale       /beer/profile/94/3128/   \n",
       "3                       Doppelsticke    /beer/profile/1923/24042/   \n",
       "4       Sleigh'r Dark Doüble Alt Ale   /beer/profile/14400/47120/   \n",
       "...                              ...                          ...   \n",
       "194115                    Voodoo - U  /beer/profile/54266/489724/   \n",
       "194116                           Wit  /beer/profile/57106/491260/   \n",
       "194117                       Brumada  /beer/profile/60099/519676/   \n",
       "194118                       Lowside  /beer/profile/48685/464893/   \n",
       "194119                   Belgian Wit  /beer/profile/60670/574719/   \n",
       "\n",
       "                       beer_company_name beer_company_page_url   abv  rating  \\\n",
       "0                    Alaskan Brewing Co.    /beer/profile/429/  5.30    2254   \n",
       "1                 Long Trail Brewing Co.     /beer/profile/94/  7.20    1781   \n",
       "2                 Long Trail Brewing Co.     /beer/profile/94/  5.00    1429   \n",
       "3         Uerige Obergärige Hausbrauerei   /beer/profile/1923/  8.50     721   \n",
       "4                Ninkasi Brewing Company  /beer/profile/14400/  7.20     625   \n",
       "...                                  ...                   ...   ...     ...   \n",
       "194115                     Apex Aleworks  /beer/profile/54266/  8.50       0   \n",
       "194116  Rochester Brewing & Roasting Co.  /beer/profile/57106/  4.90       0   \n",
       "194117               Wolf Branch Brewing  /beer/profile/60099/  4.80       0   \n",
       "194118            Strap Tank Brewing Co.  /beer/profile/48685/  4.80       0   \n",
       "194119     Paddled South Brewing Company  /beer/profile/60670/  4.20       0   \n",
       "\n",
       "         avg last_active                                 beer_type_url  \\\n",
       "0       3.65  09-07-2022  https://www.beeradvocate.com/beer/styles/86/   \n",
       "1       3.87  08-30-2022  https://www.beeradvocate.com/beer/styles/86/   \n",
       "2       3.57  08-30-2022  https://www.beeradvocate.com/beer/styles/86/   \n",
       "3       4.10  08-22-2022  https://www.beeradvocate.com/beer/styles/86/   \n",
       "4       3.76  04-11-2021  https://www.beeradvocate.com/beer/styles/86/   \n",
       "...      ...         ...                                           ...   \n",
       "194115  0.00  06-15-2020  https://www.beeradvocate.com/beer/styles/48/   \n",
       "194116  0.00  06-24-2020  https://www.beeradvocate.com/beer/styles/48/   \n",
       "194117  0.00  11-23-2020  https://www.beeradvocate.com/beer/styles/48/   \n",
       "194118  0.00  02-07-2020  https://www.beeradvocate.com/beer/styles/48/   \n",
       "194119  0.00  10-29-2021  https://www.beeradvocate.com/beer/styles/48/   \n",
       "\n",
       "         style_name beer_type_name       beer_id  \n",
       "0        Brown Ales        Altbier      429_1309  \n",
       "1        Brown Ales        Altbier        94_273  \n",
       "2        Brown Ales        Altbier       94_3128  \n",
       "3        Brown Ales        Altbier    1923_24042  \n",
       "4        Brown Ales        Altbier   14400_47120  \n",
       "...             ...            ...           ...  \n",
       "194115  Wheat Beers        Witbier  54266_489724  \n",
       "194116  Wheat Beers        Witbier  57106_491260  \n",
       "194117  Wheat Beers        Witbier  60099_519676  \n",
       "194118  Wheat Beers        Witbier  48685_464893  \n",
       "194119  Wheat Beers        Witbier  60670_574719  \n",
       "\n",
       "[194120 rows x 12 columns]"
      ]
     },
     "execution_count": 3,
     "metadata": {},
     "output_type": "execute_result"
    }
   ],
   "source": [
    "df_beers"
   ]
  },
  {
   "cell_type": "code",
   "execution_count": 6,
   "metadata": {},
   "outputs": [
    {
     "data": {
      "text/plain": [
       "(120,)"
      ]
     },
     "execution_count": 6,
     "metadata": {},
     "output_type": "execute_result"
    }
   ],
   "source": [
    "df['Learn more about this style.'].unique().shape"
   ]
  },
  {
   "cell_type": "code",
   "execution_count": 13,
   "metadata": {},
   "outputs": [
    {
     "data": {
      "text/plain": [
       "(194118,)"
      ]
     },
     "execution_count": 13,
     "metadata": {},
     "output_type": "execute_result"
    }
   ],
   "source": [
    "df.beer_id.unique().shape"
   ]
  },
  {
   "cell_type": "markdown",
   "metadata": {},
   "source": [
    "# Cleaning Data"
   ]
  },
  {
   "cell_type": "markdown",
   "metadata": {},
   "source": [
    "## Cleaning Notes"
   ]
  },
  {
   "cell_type": "code",
   "execution_count": 14,
   "metadata": {},
   "outputs": [],
   "source": [
    "df.note=df.note.str\\\n",
    "            .replace('\\n',' ',regex=True)\\\n",
    "            .replace('Notes: ','',regex=True)\\\n",
    "            .replace('None','',regex=True)\\\n"
   ]
  },
  {
   "cell_type": "markdown",
   "metadata": {},
   "source": [
    "## Cleaning reviews"
   ]
  },
  {
   "cell_type": "code",
   "execution_count": 15,
   "metadata": {},
   "outputs": [],
   "source": [
    "df.reviews=df.reviews\n",
    "\n",
    "#str to list\n",
    "df.reviews=df.reviews.apply(lambda x: ast.literal_eval(x))\n"
   ]
  },
  {
   "cell_type": "markdown",
   "metadata": {},
   "source": [
    "### str to beautiful soup\n",
    "\n",
    "not really efficient. Next time it would be better to preprocess the data beforehand.\n"
   ]
  },
  {
   "cell_type": "code",
   "execution_count": 16,
   "metadata": {},
   "outputs": [
    {
     "name": "stderr",
     "output_type": "stream",
     "text": [
      "100%|██████████| 194118/194118 [41:05<00:00, 78.75it/s]   \n"
     ]
    }
   ],
   "source": [
    "review_list=df.reviews.values.tolist()\n",
    "\n",
    "review_list_soup=[]\n",
    "for e in tqdm(review_list):\n",
    "    if len(e)==0:\n",
    "        review_list_soup.append([])\n",
    "    else:\n",
    "        review_list_soup.append([BeautifulSoup(e2) for e2 in e])\n",
    "\n",
    "\n",
    "df.reviews=review_list_soup\n"
   ]
  },
  {
   "cell_type": "markdown",
   "metadata": {},
   "source": [
    "### getting reviews and a bit of cleaning"
   ]
  },
  {
   "cell_type": "code",
   "execution_count": 17,
   "metadata": {},
   "outputs": [],
   "source": [
    "#BAscore_norm=e.find('span',{'class':'BAscore_norm'}).text\n",
    "attr={'style':'margin:10px 0px; padding:10px; border-left:2px solid #A9A9A9; font-size:11pt; line-height:1.4;'}\n",
    "df['reviews_list']=df.reviews.apply(lambda x: [e.find('div',attr).text for e in x if e.find('div',attr ) is not None] )\n",
    "df['reviews_list']=df.reviews_list.apply(lambda x: [e.replace('\\n',' ') for e in x] )\n",
    "\n"
   ]
  },
  {
   "cell_type": "markdown",
   "metadata": {},
   "source": [
    "## Cleaning the rest "
   ]
  },
  {
   "cell_type": "code",
   "execution_count": 18,
   "metadata": {},
   "outputs": [],
   "source": [
    "df.drop(columns='reviews',inplace=True)\n",
    "\n",
    "df.rename(columns={\n",
    "    'View more beers and info from this brewery.':'brewery',\n",
    "    'Learn more about this style.':\"beer_style\",\n",
    "    'Percentage of alcohol by volume.':'ABV (%)',\n",
    "    'The official BeerAdvocate (BA) Score for this beer.':'BA score',\n",
    "    'Average across all ratings for this beer.':\"avg rating\",\n",
    "    'Number of reviews for this beer.':\"N reviews\",\n",
    "    'Number of ratings for this beer.':\"N ratings\",\n",
    "    \"The beer's current activity status.\":'activity status',\n",
    "    'The date this beer was last rated.':\"last rated date\",\n",
    "    'The date this beer was added to the site.':\"date the beer was added\",\n",
    "    'Number of users who want this beer.':\"N wants\",\n",
    "    'Number of users who have this beer.':\"N had\",\n",
    "    'reviews_list':'reviews'\n",
    "    },inplace=True)\n",
    "\n",
    "df['ABV (%)']=df['ABV (%)'].str.replace('%','').astype(float)\n",
    "df['N reviews']=df['N reviews'].str.replace(',','').astype(int)\n",
    "df['N ratings']=df['N ratings'].str.replace(',','').astype(int)\n",
    "df['last rated date']=df['last rated date'].str.replace('\\n','')"
   ]
  },
  {
   "cell_type": "code",
   "execution_count": 19,
   "metadata": {},
   "outputs": [],
   "source": [
    "df.explode('reviews').to_csv('Cleaned beer data/Beerdata_exploded.csv',index=False)\n",
    "df.to_csv('Cleaned beer data/Beerdata.csv',index=False)"
   ]
  },
  {
   "cell_type": "markdown",
   "metadata": {},
   "source": [
    "## cleaning location \n",
    "\n",
    "I will be using [Geopy](https://geopy.readthedocs.io/en/stable/index.html)\n",
    "\n"
   ]
  },
  {
   "cell_type": "code",
   "execution_count": 27,
   "metadata": {},
   "outputs": [
    {
     "name": "stderr",
     "output_type": "stream",
     "text": [
      "100%|██████████| 213/213 [01:46<00:00,  2.00it/s]\n"
     ]
    }
   ],
   "source": [
    "from geopy import Nominatim\n",
    "\n",
    "\n",
    "\n",
    "\n",
    "def find_loc(locations,locs_dict={}):\n",
    "    for loc in tqdm(locations):\n",
    "        try:\n",
    "            location = locator.geocode(loc)\n",
    "            locs_dict[loc]=location\n",
    "        except:\n",
    "            print(F'Error: {loc}')\n",
    "            pass\n",
    "\n",
    "            #new list by removing those who have been done\n",
    "            #locations=list(set(locations)-set(locs_dict.keys()))\n",
    "            #find_loc(locations,locs_dict=locs_dict)\n",
    "    return locs_dict \n",
    "\n",
    "df1=pd.read_csv('Cleaned beer data/Beerdata.csv')\n",
    "#Those 2 locations did not have any matchs\n",
    "df1.location=df1.location.str\\\n",
    "    .replace('Virgin Islands (U.S.)','Virgin Islands',regex=False)\\\n",
    "    .replace('England, Croatia (Hrvatska)','England',regex=False)\n",
    "\n",
    "\n",
    "\n",
    "locator = Nominatim(user_agent=\"myGeocoder\")\n",
    "locations=df1.location.unique()\n",
    "\n",
    "loc_dict=find_loc(locations)\n",
    "\n",
    "\n",
    "df1['location_cleaned']=df1.location.apply(lambda x: loc_dict.get(x,np.NaN) ) #loc_dict\n",
    "df1['address']=df1.location_cleaned.apply(lambda x: x.address if (x is not np.NaN and x is not None)  else np.NaN)\n",
    "df1['loc_altitude']=df1.location_cleaned.apply(lambda x: x.altitude if (x is not np.NaN and x is not None)  else np.NaN)\n",
    "df1['loc_latitude']=df1.location_cleaned.apply(lambda x: x.latitude if (x is not np.NaN and x is not None)  else np.NaN)\n",
    "df1['loc_longitude']=df1.location_cleaned.apply(lambda x: x.longitude if (x is not np.NaN and x is not None)  else np.NaN)"
   ]
  },
  {
   "cell_type": "code",
   "execution_count": 32,
   "metadata": {},
   "outputs": [],
   "source": [
    "df1.to_csv('Cleaned beer data/Beerdata.csv',index=False)"
   ]
  }
 ],
 "metadata": {
  "kernelspec": {
   "display_name": "Python 3.7.13 ('myenv')",
   "language": "python",
   "name": "python3"
  },
  "language_info": {
   "codemirror_mode": {
    "name": "ipython",
    "version": 3
   },
   "file_extension": ".py",
   "mimetype": "text/x-python",
   "name": "python",
   "nbconvert_exporter": "python",
   "pygments_lexer": "ipython3",
   "version": "3.7.13"
  },
  "orig_nbformat": 4,
  "vscode": {
   "interpreter": {
    "hash": "e670a2313c08460ca3e572e7aecbfd707f9340fb692d185f257e809bf55e70e3"
   }
  }
 },
 "nbformat": 4,
 "nbformat_minor": 2
}
