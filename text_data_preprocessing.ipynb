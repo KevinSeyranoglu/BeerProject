{
 "cells": [
  {
   "cell_type": "code",
   "execution_count": 1,
   "metadata": {},
   "outputs": [
    {
     "name": "stderr",
     "output_type": "stream",
     "text": [
      "c:\\Users\\kevin\\Anaconda3\\envs\\myenv\\lib\\site-packages\\tqdm\\auto.py:22: TqdmWarning: IProgress not found. Please update jupyter and ipywidgets. See https://ipywidgets.readthedocs.io/en/stable/user_install.html\n",
      "  from .autonotebook import tqdm as notebook_tqdm\n"
     ]
    }
   ],
   "source": [
    "import requests\n",
    "import pandas as pd \n",
    "from bs4 import BeautifulSoup\n",
    "from tqdm import tqdm\n",
    "import time\n",
    "import os \n",
    "import numpy as np \n",
    "import ast\n",
    "import re \n",
    "from sentence_transformers import SentenceTransformer\n",
    "\n",
    "\n",
    "df1=pd.read_csv('Cleaned beer data/Beerdata.csv')\n",
    "df2=pd.read_csv('beer data/beer_data_step1.csv').set_index('beer_id')\n",
    "df = df1.join(other=df2,on='beer_id',how='left')\n",
    "df=df.rename(columns={'style_name':'Beer styles'})\n",
    "\n",
    "df.reviews=df.reviews.apply(lambda x: ast.literal_eval(x))\n",
    "df['beer_page']='https://www.beeradvocate.com'+df['beer_page']\n"
   ]
  },
  {
   "cell_type": "code",
   "execution_count": 2,
   "metadata": {},
   "outputs": [],
   "source": [
    "df['N_rewiews']=df.reviews.str.len()\n",
    "df_sample=df.loc[df.N_rewiews>0].reset_index(drop=True)\n",
    "\n",
    "#df_sample=df.loc[df.N_rewiews>0].sample(n=1000,random_state=10)\n",
    "df_sample['reviews2']=df_sample.reviews.apply(lambda x :' '.join(x))\n",
    "\n",
    "#testing with notes 1st\n",
    "#df_sample=df.loc[df.note.str.strip().str.len()>0]\n",
    "reviews_array=df_sample.reviews2.values"
   ]
  },
  {
   "cell_type": "code",
   "execution_count": 3,
   "metadata": {},
   "outputs": [],
   "source": [
    "df_sample['reviews2']=df_sample.reviews.apply(lambda x :' '.join(x))"
   ]
  },
  {
   "cell_type": "code",
   "execution_count": 124,
   "metadata": {},
   "outputs": [
    {
     "data": {
      "text/plain": [
       "<AxesSubplot:>"
      ]
     },
     "execution_count": 124,
     "metadata": {},
     "output_type": "execute_result"
    },
    {
     "data": {
      "image/png": "[encoded data removed]",
      "text/plain": [
       "<Figure size 432x288 with 1 Axes>"
      ]
     },
     "metadata": {
      "needs_background": "light"
     },
     "output_type": "display_data"
    }
   ],
   "source": [
    "df_sample.avg.hist()"
   ]
  },
  {
   "cell_type": "code",
   "execution_count": 125,
   "metadata": {},
   "outputs": [
    {
     "data": {
      "text/plain": [
       "<AxesSubplot:>"
      ]
     },
     "execution_count": 125,
     "metadata": {},
     "output_type": "execute_result"
    },
    {
     "data": {
      "image/png": "[encoded data removed]",
      "text/plain": [
       "<Figure size 432x288 with 1 Axes>"
      ]
     },
     "metadata": {
      "needs_background": "light"
     },
     "output_type": "display_data"
    }
   ],
   "source": [
    "df_sample['BA score'].hist()"
   ]
  },
  {
   "cell_type": "code",
   "execution_count": 130,
   "metadata": {},
   "outputs": [
    {
     "data": {
      "text/plain": [
       "<AxesSubplot:>"
      ]
     },
     "execution_count": 130,
     "metadata": {},
     "output_type": "execute_result"
    },
    {
     "data": {
      "image/png": "[encoded data removed]",
      "text/plain": [
       "<Figure size 432x288 with 1 Axes>"
      ]
     },
     "metadata": {
      "needs_background": "light"
     },
     "output_type": "display_data"
    }
   ],
   "source": [
    "df_sample['N_rewiews'].hist()"
   ]
  },
  {
   "cell_type": "code",
   "execution_count": 129,
   "metadata": {},
   "outputs": [
    {
     "data": {
      "text/html": [
       "<div>\n",
       "<style scoped>\n",
       "    .dataframe tbody tr th:only-of-type {\n",
       "        vertical-align: middle;\n",
       "    }\n",
       "\n",
       "    .dataframe tbody tr th {\n",
       "        vertical-align: top;\n",
       "    }\n",
       "\n",
       "    .dataframe thead th {\n",
       "        text-align: right;\n",
       "    }\n",
       "</style>\n",
       "<table border=\"1\" class=\"dataframe\">\n",
       "  <thead>\n",
       "    <tr style=\"text-align: right;\">\n",
       "      <th></th>\n",
       "      <th>brewery</th>\n",
       "      <th>location</th>\n",
       "      <th>beer_style</th>\n",
       "      <th>ABV (%)</th>\n",
       "      <th>BA score</th>\n",
       "      <th>avg rating</th>\n",
       "      <th>N reviews</th>\n",
       "      <th>N ratings</th>\n",
       "      <th>activity status</th>\n",
       "      <th>last rated date</th>\n",
       "      <th>...</th>\n",
       "      <th>beer_company_page_url</th>\n",
       "      <th>abv</th>\n",
       "      <th>rating</th>\n",
       "      <th>avg</th>\n",
       "      <th>last_active</th>\n",
       "      <th>beer_type_url</th>\n",
       "      <th>Beer styles</th>\n",
       "      <th>beer_type_name</th>\n",
       "      <th>N_rewiews</th>\n",
       "      <th>reviews2</th>\n",
       "    </tr>\n",
       "  </thead>\n",
       "  <tbody>\n",
       "    <tr>\n",
       "      <th>0</th>\n",
       "      <td>Alaskan Brewing Co.</td>\n",
       "      <td>Alaska, United States</td>\n",
       "      <td>Altbier</td>\n",
       "      <td>5.3</td>\n",
       "      <td>83.0</td>\n",
       "      <td>3.65</td>\n",
       "      <td>718</td>\n",
       "      <td>1536</td>\n",
       "      <td>Active</td>\n",
       "      <td>Sep 07, 2022</td>\n",
       "      <td>...</td>\n",
       "      <td>/beer/profile/429/</td>\n",
       "      <td>5.30</td>\n",
       "      <td>2254</td>\n",
       "      <td>3.65</td>\n",
       "      <td>09-07-2022</td>\n",
       "      <td>https://www.beeradvocate.com/beer/styles/86/</td>\n",
       "      <td>Brown Ales</td>\n",
       "      <td>Altbier</td>\n",
       "      <td>18</td>\n",
       "      <td>Poured from a 12oz can into a nucleated Pilsne...</td>\n",
       "    </tr>\n",
       "    <tr>\n",
       "      <th>1</th>\n",
       "      <td>Long Trail Brewing Co.</td>\n",
       "      <td>Vermont, United States</td>\n",
       "      <td>Altbier</td>\n",
       "      <td>7.2</td>\n",
       "      <td>87.0</td>\n",
       "      <td>3.87</td>\n",
       "      <td>602</td>\n",
       "      <td>1179</td>\n",
       "      <td>Active</td>\n",
       "      <td>Aug 30, 2022</td>\n",
       "      <td>...</td>\n",
       "      <td>/beer/profile/94/</td>\n",
       "      <td>7.20</td>\n",
       "      <td>1781</td>\n",
       "      <td>3.87</td>\n",
       "      <td>08-30-2022</td>\n",
       "      <td>https://www.beeradvocate.com/beer/styles/86/</td>\n",
       "      <td>Brown Ales</td>\n",
       "      <td>Altbier</td>\n",
       "      <td>14</td>\n",
       "      <td>(12 oz bottle, no date/code, newer label/brand...</td>\n",
       "    </tr>\n",
       "    <tr>\n",
       "      <th>2</th>\n",
       "      <td>Long Trail Brewing Co.</td>\n",
       "      <td>Vermont, United States</td>\n",
       "      <td>Altbier</td>\n",
       "      <td>5.0</td>\n",
       "      <td>81.0</td>\n",
       "      <td>3.57</td>\n",
       "      <td>446</td>\n",
       "      <td>983</td>\n",
       "      <td>Active</td>\n",
       "      <td>Aug 30, 2022</td>\n",
       "      <td>...</td>\n",
       "      <td>/beer/profile/94/</td>\n",
       "      <td>5.00</td>\n",
       "      <td>1429</td>\n",
       "      <td>3.57</td>\n",
       "      <td>08-30-2022</td>\n",
       "      <td>https://www.beeradvocate.com/beer/styles/86/</td>\n",
       "      <td>Brown Ales</td>\n",
       "      <td>Altbier</td>\n",
       "      <td>15</td>\n",
       "      <td>This beer brings back memories of visiting it ...</td>\n",
       "    </tr>\n",
       "    <tr>\n",
       "      <th>3</th>\n",
       "      <td>Uerige Obergärige Hausbrauerei</td>\n",
       "      <td>Germany</td>\n",
       "      <td>Altbier</td>\n",
       "      <td>8.5</td>\n",
       "      <td>91.0</td>\n",
       "      <td>4.10</td>\n",
       "      <td>455</td>\n",
       "      <td>266</td>\n",
       "      <td>Active</td>\n",
       "      <td>Aug 22, 2022</td>\n",
       "      <td>...</td>\n",
       "      <td>/beer/profile/1923/</td>\n",
       "      <td>8.50</td>\n",
       "      <td>721</td>\n",
       "      <td>4.10</td>\n",
       "      <td>08-22-2022</td>\n",
       "      <td>https://www.beeradvocate.com/beer/styles/86/</td>\n",
       "      <td>Brown Ales</td>\n",
       "      <td>Altbier</td>\n",
       "      <td>18</td>\n",
       "      <td>Look: dark brown with a cream head  Smell: sup...</td>\n",
       "    </tr>\n",
       "    <tr>\n",
       "      <th>4</th>\n",
       "      <td>Ninkasi Brewing Company</td>\n",
       "      <td>Oregon, United States</td>\n",
       "      <td>Altbier</td>\n",
       "      <td>7.2</td>\n",
       "      <td>85.0</td>\n",
       "      <td>3.76</td>\n",
       "      <td>182</td>\n",
       "      <td>443</td>\n",
       "      <td>Active</td>\n",
       "      <td>Apr 11, 2021</td>\n",
       "      <td>...</td>\n",
       "      <td>/beer/profile/14400/</td>\n",
       "      <td>7.20</td>\n",
       "      <td>625</td>\n",
       "      <td>3.76</td>\n",
       "      <td>04-11-2021</td>\n",
       "      <td>https://www.beeradvocate.com/beer/styles/86/</td>\n",
       "      <td>Brown Ales</td>\n",
       "      <td>Altbier</td>\n",
       "      <td>7</td>\n",
       "      <td>Look: Clear rich amber/ruby red with a beige h...</td>\n",
       "    </tr>\n",
       "    <tr>\n",
       "      <th>...</th>\n",
       "      <td>...</td>\n",
       "      <td>...</td>\n",
       "      <td>...</td>\n",
       "      <td>...</td>\n",
       "      <td>...</td>\n",
       "      <td>...</td>\n",
       "      <td>...</td>\n",
       "      <td>...</td>\n",
       "      <td>...</td>\n",
       "      <td>...</td>\n",
       "      <td>...</td>\n",
       "      <td>...</td>\n",
       "      <td>...</td>\n",
       "      <td>...</td>\n",
       "      <td>...</td>\n",
       "      <td>...</td>\n",
       "      <td>...</td>\n",
       "      <td>...</td>\n",
       "      <td>...</td>\n",
       "      <td>...</td>\n",
       "      <td>...</td>\n",
       "    </tr>\n",
       "    <tr>\n",
       "      <th>111121</th>\n",
       "      <td>Madison Brewing Co.</td>\n",
       "      <td>Vermont, United States</td>\n",
       "      <td>Witbier</td>\n",
       "      <td>5.0</td>\n",
       "      <td>NaN</td>\n",
       "      <td>4.00</td>\n",
       "      <td>1</td>\n",
       "      <td>0</td>\n",
       "      <td>Active</td>\n",
       "      <td>Jul 07, 2022</td>\n",
       "      <td>...</td>\n",
       "      <td>/beer/profile/2426/</td>\n",
       "      <td>5.00</td>\n",
       "      <td>1</td>\n",
       "      <td>4.00</td>\n",
       "      <td>07-07-2022</td>\n",
       "      <td>https://www.beeradvocate.com/beer/styles/48/</td>\n",
       "      <td>Wheat Beers</td>\n",
       "      <td>Witbier</td>\n",
       "      <td>1</td>\n",
       "      <td>Poured into a 16 oz pint glass served at the b...</td>\n",
       "    </tr>\n",
       "    <tr>\n",
       "      <th>111122</th>\n",
       "      <td>Dokkaebier</td>\n",
       "      <td>California, United States</td>\n",
       "      <td>Witbier</td>\n",
       "      <td>6.2</td>\n",
       "      <td>NaN</td>\n",
       "      <td>3.12</td>\n",
       "      <td>1</td>\n",
       "      <td>0</td>\n",
       "      <td>Active</td>\n",
       "      <td>Jun 19, 2021</td>\n",
       "      <td>...</td>\n",
       "      <td>/beer/profile/59808/</td>\n",
       "      <td>6.20</td>\n",
       "      <td>1</td>\n",
       "      <td>3.12</td>\n",
       "      <td>06-19-2021</td>\n",
       "      <td>https://www.beeradvocate.com/beer/styles/48/</td>\n",
       "      <td>Wheat Beers</td>\n",
       "      <td>Witbier</td>\n",
       "      <td>1</td>\n",
       "      <td>Served from the can in a Lagunitas mason jar. ...</td>\n",
       "    </tr>\n",
       "    <tr>\n",
       "      <th>111123</th>\n",
       "      <td>Brasserie la Malpolon</td>\n",
       "      <td>France</td>\n",
       "      <td>Witbier</td>\n",
       "      <td>4.5</td>\n",
       "      <td>NaN</td>\n",
       "      <td>3.50</td>\n",
       "      <td>1</td>\n",
       "      <td>0</td>\n",
       "      <td>Active</td>\n",
       "      <td>Mar 15, 2022</td>\n",
       "      <td>...</td>\n",
       "      <td>/beer/profile/62524/</td>\n",
       "      <td>4.50</td>\n",
       "      <td>1</td>\n",
       "      <td>3.50</td>\n",
       "      <td>03-15-2022</td>\n",
       "      <td>https://www.beeradvocate.com/beer/styles/48/</td>\n",
       "      <td>Wheat Beers</td>\n",
       "      <td>Witbier</td>\n",
       "      <td>1</td>\n",
       "      <td>Served from the bottle in a Lagunitas mason ja...</td>\n",
       "    </tr>\n",
       "    <tr>\n",
       "      <th>111124</th>\n",
       "      <td>Cervejaria Schornstein</td>\n",
       "      <td>Brazil</td>\n",
       "      <td>Witbier</td>\n",
       "      <td>4.5</td>\n",
       "      <td>NaN</td>\n",
       "      <td>3.24</td>\n",
       "      <td>1</td>\n",
       "      <td>0</td>\n",
       "      <td>Active</td>\n",
       "      <td>Aug 20, 2022</td>\n",
       "      <td>...</td>\n",
       "      <td>/beer/profile/14955/</td>\n",
       "      <td>4.50</td>\n",
       "      <td>1</td>\n",
       "      <td>3.24</td>\n",
       "      <td>08-19-2022</td>\n",
       "      <td>https://www.beeradvocate.com/beer/styles/48/</td>\n",
       "      <td>Wheat Beers</td>\n",
       "      <td>Witbier</td>\n",
       "      <td>1</td>\n",
       "      <td>Light golden color with a thick thin head. Aro...</td>\n",
       "    </tr>\n",
       "    <tr>\n",
       "      <th>111125</th>\n",
       "      <td>Nonesuch River Brewing</td>\n",
       "      <td>Maine, United States</td>\n",
       "      <td>Witbier</td>\n",
       "      <td>5.2</td>\n",
       "      <td>NaN</td>\n",
       "      <td>4.00</td>\n",
       "      <td>0</td>\n",
       "      <td>1</td>\n",
       "      <td>Active</td>\n",
       "      <td>Sep 09, 2020</td>\n",
       "      <td>...</td>\n",
       "      <td>/beer/profile/52006/</td>\n",
       "      <td>5.20</td>\n",
       "      <td>1</td>\n",
       "      <td>4.00</td>\n",
       "      <td>09-09-2020</td>\n",
       "      <td>https://www.beeradvocate.com/beer/styles/48/</td>\n",
       "      <td>Wheat Beers</td>\n",
       "      <td>Witbier</td>\n",
       "      <td>1</td>\n",
       "      <td>On tap at the brewery</td>\n",
       "    </tr>\n",
       "  </tbody>\n",
       "</table>\n",
       "<p>111126 rows × 34 columns</p>\n",
       "</div>"
      ],
      "text/plain": [
       "                               brewery                   location beer_style  \\\n",
       "0                  Alaskan Brewing Co.      Alaska, United States    Altbier   \n",
       "1               Long Trail Brewing Co.     Vermont, United States    Altbier   \n",
       "2               Long Trail Brewing Co.     Vermont, United States    Altbier   \n",
       "3       Uerige Obergärige Hausbrauerei                    Germany    Altbier   \n",
       "4              Ninkasi Brewing Company      Oregon, United States    Altbier   \n",
       "...                                ...                        ...        ...   \n",
       "111121             Madison Brewing Co.     Vermont, United States    Witbier   \n",
       "111122                      Dokkaebier  California, United States    Witbier   \n",
       "111123           Brasserie la Malpolon                     France    Witbier   \n",
       "111124          Cervejaria Schornstein                     Brazil    Witbier   \n",
       "111125          Nonesuch River Brewing       Maine, United States    Witbier   \n",
       "\n",
       "        ABV (%)  BA score  avg rating  N reviews  N ratings activity status  \\\n",
       "0           5.3      83.0        3.65        718       1536          Active   \n",
       "1           7.2      87.0        3.87        602       1179          Active   \n",
       "2           5.0      81.0        3.57        446        983          Active   \n",
       "3           8.5      91.0        4.10        455        266          Active   \n",
       "4           7.2      85.0        3.76        182        443          Active   \n",
       "...         ...       ...         ...        ...        ...             ...   \n",
       "111121      5.0       NaN        4.00          1          0          Active   \n",
       "111122      6.2       NaN        3.12          1          0          Active   \n",
       "111123      4.5       NaN        3.50          1          0          Active   \n",
       "111124      4.5       NaN        3.24          1          0          Active   \n",
       "111125      5.2       NaN        4.00          0          1          Active   \n",
       "\n",
       "       last rated date  ... beer_company_page_url   abv rating   avg  \\\n",
       "0         Sep 07, 2022  ...    /beer/profile/429/  5.30   2254  3.65   \n",
       "1         Aug 30, 2022  ...     /beer/profile/94/  7.20   1781  3.87   \n",
       "2         Aug 30, 2022  ...     /beer/profile/94/  5.00   1429  3.57   \n",
       "3         Aug 22, 2022  ...   /beer/profile/1923/  8.50    721  4.10   \n",
       "4         Apr 11, 2021  ...  /beer/profile/14400/  7.20    625  3.76   \n",
       "...                ...  ...                   ...   ...    ...   ...   \n",
       "111121    Jul 07, 2022  ...   /beer/profile/2426/  5.00      1  4.00   \n",
       "111122    Jun 19, 2021  ...  /beer/profile/59808/  6.20      1  3.12   \n",
       "111123    Mar 15, 2022  ...  /beer/profile/62524/  4.50      1  3.50   \n",
       "111124    Aug 20, 2022  ...  /beer/profile/14955/  4.50      1  3.24   \n",
       "111125    Sep 09, 2020  ...  /beer/profile/52006/  5.20      1  4.00   \n",
       "\n",
       "       last_active                                 beer_type_url  Beer styles  \\\n",
       "0       09-07-2022  https://www.beeradvocate.com/beer/styles/86/   Brown Ales   \n",
       "1       08-30-2022  https://www.beeradvocate.com/beer/styles/86/   Brown Ales   \n",
       "2       08-30-2022  https://www.beeradvocate.com/beer/styles/86/   Brown Ales   \n",
       "3       08-22-2022  https://www.beeradvocate.com/beer/styles/86/   Brown Ales   \n",
       "4       04-11-2021  https://www.beeradvocate.com/beer/styles/86/   Brown Ales   \n",
       "...            ...                                           ...          ...   \n",
       "111121  07-07-2022  https://www.beeradvocate.com/beer/styles/48/  Wheat Beers   \n",
       "111122  06-19-2021  https://www.beeradvocate.com/beer/styles/48/  Wheat Beers   \n",
       "111123  03-15-2022  https://www.beeradvocate.com/beer/styles/48/  Wheat Beers   \n",
       "111124  08-19-2022  https://www.beeradvocate.com/beer/styles/48/  Wheat Beers   \n",
       "111125  09-09-2020  https://www.beeradvocate.com/beer/styles/48/  Wheat Beers   \n",
       "\n",
       "       beer_type_name  N_rewiews  \\\n",
       "0             Altbier         18   \n",
       "1             Altbier         14   \n",
       "2             Altbier         15   \n",
       "3             Altbier         18   \n",
       "4             Altbier          7   \n",
       "...               ...        ...   \n",
       "111121        Witbier          1   \n",
       "111122        Witbier          1   \n",
       "111123        Witbier          1   \n",
       "111124        Witbier          1   \n",
       "111125        Witbier          1   \n",
       "\n",
       "                                                 reviews2  \n",
       "0       Poured from a 12oz can into a nucleated Pilsne...  \n",
       "1       (12 oz bottle, no date/code, newer label/brand...  \n",
       "2       This beer brings back memories of visiting it ...  \n",
       "3       Look: dark brown with a cream head  Smell: sup...  \n",
       "4       Look: Clear rich amber/ruby red with a beige h...  \n",
       "...                                                   ...  \n",
       "111121  Poured into a 16 oz pint glass served at the b...  \n",
       "111122  Served from the can in a Lagunitas mason jar. ...  \n",
       "111123  Served from the bottle in a Lagunitas mason ja...  \n",
       "111124  Light golden color with a thick thin head. Aro...  \n",
       "111125                              On tap at the brewery  \n",
       "\n",
       "[111126 rows x 34 columns]"
      ]
     },
     "execution_count": 129,
     "metadata": {},
     "output_type": "execute_result"
    }
   ],
   "source": [
    "df_sample"
   ]
  },
  {
   "cell_type": "code",
   "execution_count": 152,
   "metadata": {},
   "outputs": [],
   "source": [
    "#df_sample.to_csv('beer_data_with_reviews.csv',index=False)"
   ]
  },
  {
   "cell_type": "code",
   "execution_count": 4,
   "metadata": {},
   "outputs": [],
   "source": [
    "\n",
    "#model = SentenceTransformer('bert-base-nli-mean-tokens',device='cuda')\n",
    "#model2 = SentenceTransformer('distilbert-base-nli-stsb-mean-tokens',device='cuda')\n",
    "model3 = SentenceTransformer('msmarco-distilbert-base-dot-prod-v3',device='cuda')\n",
    "\n"
   ]
  },
  {
   "cell_type": "code",
   "execution_count": 32,
   "metadata": {},
   "outputs": [
    {
     "data": {
      "text/plain": [
       "1112"
      ]
     },
     "execution_count": 32,
     "metadata": {},
     "output_type": "execute_result"
    }
   ],
   "source": [
    "n_idx"
   ]
  },
  {
   "cell_type": "code",
   "execution_count": 39,
   "metadata": {},
   "outputs": [
    {
     "name": "stderr",
     "output_type": "stream",
     "text": [
      "100%|██████████| 1112/1112 [45:52<00:00,  2.48s/it]\n"
     ]
    }
   ],
   "source": [
    "n=100\n",
    "\n",
    "n_idx=int(np.ceil(len(reviews_array)/n))\n",
    "\n",
    "\n",
    "\n",
    "sentence_embeddings=np.zeros([len(reviews_array),768])\n",
    "#sentence_embeddings = model.encode(reviews_array)\n",
    "for i in tqdm(range(n_idx)):\n",
    "    sentence_embeddings[i*n:i*n+n] = model3.encode(reviews_array[i*n:i*n+n])\n"
   ]
  },
  {
   "cell_type": "code",
   "execution_count": 62,
   "metadata": {},
   "outputs": [
    {
     "data": {
      "text/plain": [
       "(432537, 768)"
      ]
     },
     "execution_count": 62,
     "metadata": {},
     "output_type": "execute_result"
    }
   ],
   "source": [
    "sentence_embeddings.shape"
   ]
  },
  {
   "cell_type": "code",
   "execution_count": 156,
   "metadata": {},
   "outputs": [
    {
     "data": {
      "text/plain": [
       "'Absolutely a favorite. Very hard to find altbiers and even though buying an Alaskan beer in Ohio that is still relatively fresh is a challenge, I continue to seek out this beer'"
      ]
     },
     "execution_count": 156,
     "metadata": {},
     "output_type": "execute_result"
    }
   ],
   "source": [
    "reviews_array[1]"
   ]
  },
  {
   "cell_type": "code",
   "execution_count": 6,
   "metadata": {},
   "outputs": [],
   "source": [
    "import pickle\n"
   ]
  },
  {
   "cell_type": "code",
   "execution_count": 40,
   "metadata": {},
   "outputs": [],
   "source": [
    "import pickle\n",
    "#Store sentences & embeddings on disc\n",
    "with open('embeddings_reviews3_1.pkl', \"wb\") as fOut:\n",
    "    pickle.dump({'sentences': reviews_array, 'embeddings': sentence_embeddings}, fOut, protocol=pickle.HIGHEST_PROTOCOL)\n",
    "\n"
   ]
  },
  {
   "cell_type": "code",
   "execution_count": 7,
   "metadata": {},
   "outputs": [],
   "source": [
    "#with open('embeddings.pkl', \"rb\") as fIn:\n",
    "#    stored_data = pickle.load(fIn)\n",
    "#    stored_sentences = stored_data['sentences']\n",
    "#    stored_embeddings = stored_data['embeddings']\n",
    "with open('embeddings_reviews3_1.pkl', \"rb\") as fIn:\n",
    "    stored_data = pickle.load(fIn)\n",
    "    stored_sentences = stored_data['sentences']\n",
    "    stored_embeddings = stored_data['embeddings']"
   ]
  },
  {
   "cell_type": "code",
   "execution_count": 199,
   "metadata": {},
   "outputs": [
    {
     "data": {
      "text/plain": [
       "(432537, 768)"
      ]
     },
     "execution_count": 199,
     "metadata": {},
     "output_type": "execute_result"
    }
   ],
   "source": [
    "sentence_embeddings.shape"
   ]
  },
  {
   "cell_type": "code",
   "execution_count": 211,
   "metadata": {},
   "outputs": [
    {
     "data": {
      "text/plain": [
       "(768,)"
      ]
     },
     "execution_count": 211,
     "metadata": {},
     "output_type": "execute_result"
    }
   ],
   "source": [
    "my_sentence=' bitter orange beers  '\n",
    "\n",
    "sentence_embedding2 = model3.encode(my_sentence)\n",
    "\n",
    "\n",
    "from sklearn.metrics.pairwise import cosine_similarity\n",
    "sentence_embedding2.shape"
   ]
  },
  {
   "cell_type": "code",
   "execution_count": 10,
   "metadata": {},
   "outputs": [],
   "source": [
    "from sklearn.metrics.pairwise import cosine_similarity\n"
   ]
  },
  {
   "cell_type": "code",
   "execution_count": 31,
   "metadata": {},
   "outputs": [],
   "source": [
    "from sklearn.metrics.pairwise import safe_sparse_dot"
   ]
  },
  {
   "cell_type": "code",
   "execution_count": 46,
   "metadata": {},
   "outputs": [
    {
     "data": {
      "text/plain": [
       "['Pretty aggressive ipa bitter and somewhat balanced but overall easy to drink and goes well with food. Very lemon hops and sharp grapefruit. Worth trying tastes homebrewed!']"
      ]
     },
     "execution_count": 46,
     "metadata": {},
     "output_type": "execute_result"
    }
   ],
   "source": [
    "my_sentence='Ipa that goes well with fries'\n",
    "\n",
    "sentence_embedding2 = model3.encode(my_sentence)\n",
    "\n",
    "cs=cosine_similarity(\n",
    "    [sentence_embedding2],\n",
    "    stored_embeddings\n",
    ")\n",
    "df_sample.iloc[cs[0].argmax()].reviews"
   ]
  },
  {
   "cell_type": "code",
   "execution_count": 25,
   "metadata": {},
   "outputs": [],
   "source": [
    "def testing(my_sentence=''):\n",
    "    sentence_embedding2 = model3.encode(my_sentence)\n",
    "\n",
    "    cs=cosine_distances(\n",
    "        [sentence_embedding2],\n",
    "        stored_embeddings\n",
    "    )\n",
    "    #df_i=df_sample.iloc[cs[0].argmax()]\n",
    "    df_=df_sample.iloc[cs[0].argsort()[::-1][0:5]]\n",
    "    display(df_)\n",
    "    for i in range(len(df_)):\n",
    "        df_i=df_.iloc[i]\n",
    "        print(\n",
    "            F'Review: {df_i.reviews}\\n Style: {df_i.beer_style}\\n beer name: {df_i.beer_name}\\n beer page: {df_i.beer_page}\\n\\n\\n'\n",
    "\n",
    "            )"
   ]
  },
  {
   "cell_type": "code",
   "execution_count": 47,
   "metadata": {},
   "outputs": [],
   "source": [
    "def testing(my_sentence=''):\n",
    "    sentence_embedding2 = model3.encode(my_sentence)\n",
    "\n",
    "    cs=np.dot(\n",
    "        [sentence_embedding2],\n",
    "        stored_embeddings.T\n",
    "    )\n",
    "    #df_i=df_sample.iloc[cs[0].argmax()]\n",
    "    arg_maxs=cs[0].argsort()[::-1][0:5]\n",
    "    #display(df_)\n",
    "    print(arg_maxs)\n",
    "    for idx in arg_maxs:\n",
    "        df_i=df_sample.iloc[idx]\n",
    "        print(cs[0][idx])\n",
    "        print(\n",
    "            F'Review: {df_i.reviews}\\n Style: {df_i.beer_style}\\n beer name: {df_i.beer_name}\\n beer page: {df_i.beer_page}\\n\\n\\n'\n",
    "\n",
    "            )"
   ]
  },
  {
   "cell_type": "code",
   "execution_count": 57,
   "metadata": {},
   "outputs": [
    {
     "name": "stdout",
     "output_type": "stream",
     "text": [
      "[18674 93716 17077 87561 84356]\n",
      "55.60636758365195\n",
      "Review: ['AKA \"Monkey IPA\" on cask pump at Beer Belly Temma in Osaka.  Cloudy golden with a thin, semi-durable white head.  Aroma: fruity and plenty hoppy Flavor: follows; slightly mild bitterness for style. Hoppy notes of citrus and other tropical fruits. Faint light bread; grapefruit in the aftertaste.  Medium-light body with light carbonation.  Overall: recommended.', \"Yuzu-like citrus and resiny pine comprise the main aroma in play. A slight hint of grainy malt toward the back end, otherwise this smells like a typical easy drinking IPA.  Aroma is well-mirrored on the palate, although the citrus isn't quite as prominent as one would want it to be. There's a smooth biscuity malt interlude after the citrus, which is followed by a nice pine-y bitter finish. Deceptively easy drinking for a 6% IPA.  Medium light-bodied teetering toward light; minimal carbonation makes this a refreshing treat after the 1km walk I had to walk to get here from Makiochi station. I will definitely be taking some of this back home.\"]\n",
      " Style: American IPA\n",
      " beer name: Osaru IPA\n",
      " beer page: https://www.beeradvocate.com/beer/profile/3534/141894/\n",
      "\n",
      "\n",
      "\n",
      "55.04971356187737\n",
      "Review: ['Pours a hazy light orange wth soft head that falls away quickly.  Smell is juicy and grassy with notes of papaya, citrus, melon and... dragonfruit?  Taste is juicy and fruity with some floral hints. Notes of melon, papaya, citrus and hints of licorice and vegetable stock. Moderate bitterness.  Mouthfeel is medium, well carbonated.  Overall, a nice IPA, would be very good without the veggie note.']\n",
      " Style: New England IPA\n",
      " beer name: Blomstervand\n",
      " beer page: https://www.beeradvocate.com/beer/profile/32344/480450/\n",
      "\n",
      "\n",
      "\n",
      "53.92215099778629\n",
      "Review: ['Bright, zingy IPA. Typical citrus and bitterness but with a twist..an herbal, spicy undertone and medium mouthfeel finishing a little more dry. 12 oz can with wide opening but poured into a tulip. Good stuff!', '12 oz. can - Canned 11/20/18:  Pours golden yellow. A thin fluffy white head leaves lacing.  The smell is of citrus, pine, somewhat dank.  The taste is citric, piney, herbal. Bready malt backing. Slight alcohol shows. Bitter finish.  It is pretty chewy. Pretty smooth.  A solid IPA!', 'The alcohol is too prominenet, almost fusel, detracting front he malt and hop flavors. Also, it is not “bone-dry”, like the can states, but the malt is quite prominent, with caramelly and honey-like notes. Body is medium full, suggesting under-attenuation, and the hop flavors clash rather than complement each other - grassy, orange, and resiny.']\n",
      " Style: American IPA\n",
      " beer name: Solis Dynamic IPA\n",
      " beer page: https://www.beeradvocate.com/beer/profile/23347/292081/\n",
      "\n",
      "\n",
      "\n",
      "53.900767114270344\n",
      "Review: ['Appearance - Pours opaque dull orange with a nice fluffy white head great retention. Lots of spotty lacing.  Aroma - Herbal/grassy hops, citrus peel, grapefruit mild orange sweetness.   Taste - Really strong herbal hop flavor, grapefruit, citrus peel much more earthy than sweet.  Feel - Medium bodied good carbonation bitter dry finish.  Overall - Well done IPA smooth alcohol is well hidden.', \"Opaque tan-orange with a short foamy off-white head fading to a bubbly fuzzy collar leaving some spots of lace.  Dank, cannabic, resinous and even a little rubbery at first, it also has brighter qualities of Smarties, Sweet Tarts and citrus. An almost minty herbal quality comes up in the medium, tingly crisp body after the semi-dry finish, with a touch of biscuit.   They're getting better at this...\"]\n",
      " Style: New England IPA\n",
      " beer name: Holographic Nuggets\n",
      " beer page: https://www.beeradvocate.com/beer/profile/35021/430007/\n",
      "\n",
      "\n",
      "\n",
      "53.560383713191754\n",
      "Review: [\"Canned on: ????  A - Opaque and dark golden tan with a pink tinge to it. Lacing is moderate and dense creamy.  S - Fruity aroma that's on the lighter side with tropical fruit and some stone fruit.  T - Chewy tropical fruit, nectarine, stone fruit, and peach. Finishes on the sweeter side with some lingering resiny tropical fruit and citrus underneath.   M - Big, pillowy soft, chewy, and full bodied with a slight bit of frothiness around the edges. For 10%, there's no warming on the way down (surprisingly) and finishes wet with a tad bit of dryness.  O - Impressed by the well-hidden ABV. Solid, fruity, unobtrusive and more on the subtle side for a big IPA.\", 'Not sweet as almost all other highly rated 10%+ IPAs I’ve had. Slight peppery burn that I rather enjoy, but not at all boozy.', \"4.23/5: Looks and smells amazing; doesn't quite taste as awesome, but still a great hazy IPA\", 'Can at home in Sept 2020. Really good, just a bit of booze and burn. Be careful on the pour.']\n",
      " Style: New England IPA\n",
      " beer name: Biggest Cush\n",
      " beer page: https://www.beeradvocate.com/beer/profile/46178/505471/\n",
      "\n",
      "\n",
      "\n"
     ]
    }
   ],
   "source": [
    "testing(my_sentence='fruity ipa low suggar')"
   ]
  },
  {
   "cell_type": "code",
   "execution_count": null,
   "metadata": {},
   "outputs": [],
   "source": []
  }
 ],
 "metadata": {
  "kernelspec": {
   "display_name": "Python 3.7.13 ('myenv')",
   "language": "python",
   "name": "python3"
  },
  "language_info": {
   "codemirror_mode": {
    "name": "ipython",
    "version": 3
   },
   "file_extension": ".py",
   "mimetype": "text/x-python",
   "name": "python",
   "nbconvert_exporter": "python",
   "pygments_lexer": "ipython3",
   "version": "3.7.13"
  },
  "orig_nbformat": 4,
  "vscode": {
   "interpreter": {
    "hash": "e670a2313c08460ca3e572e7aecbfd707f9340fb692d185f257e809bf55e70e3"
   }
  }
 },
 "nbformat": 4,
 "nbformat_minor": 2
}
